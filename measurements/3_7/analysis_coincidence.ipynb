{
 "cells": [
  {
   "cell_type": "code",
   "execution_count": 1,
   "metadata": {},
   "outputs": [
    {
     "name": "stdout",
     "output_type": "stream",
     "text": [
      "['/home/julian/git/coincidence/envs/lib/python312.zip', '/home/julian/git/coincidence/envs/lib/python3.12', '/home/julian/git/coincidence/envs/lib/python3.12/lib-dynload', '', '/home/julian/git/coincidence/envs/lib/python3.12/site-packages', '/home/julian/git/mimoCoRB', '/home/julian/git/coincidence/measurements']\n"
     ]
    }
   ],
   "source": [
    "import matplotlib.pyplot as plt\n",
    "\n",
    "import numpy as np\n",
    "\n",
    "import os\n",
    "import sys\n",
    "\n",
    "import yaml\n",
    "\n",
    "import PhyPraKit as ppk\n",
    "\n",
    "import pandas as pd\n",
    "notebook_path = os.path.abspath('')\n",
    "project_root = os.path.dirname(notebook_path)\n",
    "sys.path.append(project_root)\n",
    "\n",
    "#from modules.analyzers import *\n",
    "#from helpers.read_tar_parquet_to_df import process_parquet_files_from_tar\n",
    "\n",
    "colors ={'ch1':'tab:blue','ch2':'tab:orange'}\n",
    "\n",
    "print(sys.path)"
   ]
  },
  {
   "cell_type": "code",
   "execution_count": 12,
   "metadata": {},
   "outputs": [
    {
     "name": "stderr",
     "output_type": "stream",
     "text": [
      "/tmp/ipykernel_15224/3881354605.py:4: SettingWithCopyWarning: \n",
      "A value is trying to be set on a copy of a slice from a DataFrame\n",
      "\n",
      "See the caveats in the documentation: https://pandas.pydata.org/pandas-docs/stable/user_guide/indexing.html#returning-a-view-versus-a-copy\n",
      "  data['ch2_height'][ch2<500]=0\n"
     ]
    }
   ],
   "source": [
    "data = pd.read_csv('3_7_ch1_new2/spectrum.txt',delimiter='\t')\n",
    "ch2=data['ch2_height']\n",
    "\n",
    "data['ch2_height'][ch2<500]=0"
   ]
  },
  {
   "cell_type": "code",
   "execution_count": null,
   "metadata": {},
   "outputs": [],
   "source": []
  }
 ],
 "metadata": {
  "kernelspec": {
   "display_name": "base",
   "language": "python",
   "name": "python3"
  },
  "language_info": {
   "codemirror_mode": {
    "name": "ipython",
    "version": 3
   },
   "file_extension": ".py",
   "mimetype": "text/x-python",
   "name": "python",
   "nbconvert_exporter": "python",
   "pygments_lexer": "ipython3",
   "version": "3.12.4"
  }
 },
 "nbformat": 4,
 "nbformat_minor": 2
}
