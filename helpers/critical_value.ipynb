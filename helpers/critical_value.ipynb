{
 "cells": [
  {
   "cell_type": "code",
   "execution_count": 4,
   "metadata": {},
   "outputs": [],
   "source": [
    "import numpy as np\n",
    "import matplotlib.pyplot as plt\n",
    "from scipy.special import factorial"
   ]
  },
  {
   "cell_type": "code",
   "execution_count": 5,
   "metadata": {},
   "outputs": [],
   "source": [
    "#TODO once the values are set there is a more clean way of not splitting everything into chi"
   ]
  },
  {
   "cell_type": "code",
   "execution_count": 29,
   "metadata": {},
   "outputs": [
    {
     "data": {
      "image/png": "[encoded data removed]",
      "text/plain": [
       "<Figure size 640x480 with 1 Axes>"
      ]
     },
     "metadata": {},
     "output_type": "display_data"
    }
   ],
   "source": [
    "number_of_simulations = 100\n",
    "alpha = 0.05    # significance level\n",
    "\n",
    "T = 10000     # measuring time in seconds\n",
    "DeltaT = 2e-9   # coincidence window in seconds\n",
    "mu_1A = 1000      # rate of gamma_1 events in detector A in Hz\n",
    "mu_2A = 1000     # rate of gamma_2 events in detector A in Hz\n",
    "\n",
    "N_alpha = 100\n",
    "N_beta  = 100\n",
    "N_gamma = 100\n",
    "N_delta = 100\n",
    "\n",
    "\n",
    "# calculate rate of gamma_i events in detector B using maximum likelihood estimation\n",
    "mu_1B = (N_gamma + N_delta) / (T * DeltaT * (mu_1A + mu_2A))\n",
    "mu_2B = (N_beta + N_delta) / (T * DeltaT * (mu_1A + mu_2A))\n",
    "\n",
    "# calculate coincidence rates\n",
    "nu_alpha = mu_1A * mu_2B * DeltaT\n",
    "nu_beta  = mu_2A * mu_2B * DeltaT\n",
    "nu_gamma = mu_1A * mu_1B * DeltaT\n",
    "nu_delta = mu_2A * mu_1B * DeltaT\n",
    "\n",
    "nu_random = np.array([nu_alpha, nu_beta, nu_gamma, nu_delta])\n",
    "\n",
    "\n",
    "# generate random samples from a Poisson distribution\n",
    "rng = np.random.default_rng()\n",
    "samples = rng.poisson(lam=T*nu_random, size=(number_of_simulations, 4))\n",
    "samples_alpha = samples[:, 0]\n",
    "samples_beta  = samples[:, 1]\n",
    "samples_gamma = samples[:, 2]\n",
    "samples_delta = samples[:, 3]\n",
    "\n",
    "\n",
    "def poisson_pdf(k, lam):\n",
    "    log_pdf = k * np.log(lam) - lam - np.log(factorial(k))\n",
    "    return np.exp(log_pdf)\n",
    "\n",
    "def Lambda(k_alpha, k_beta, k_gamma, k_delta):\n",
    "    Lambda_alpha = poisson_pdf(k_alpha, T*nu_alpha)/poisson_pdf(k_alpha, k_alpha)\n",
    "    Lambda_beta  = poisson_pdf(k_beta, T*nu_beta)/poisson_pdf(k_beta, k_beta)\n",
    "    Lambda_gamma = poisson_pdf(k_gamma, T*nu_gamma)/poisson_pdf(k_gamma, k_gamma)\n",
    "    Lambda_delta = poisson_pdf(k_delta, T*nu_delta)/poisson_pdf(k_delta, k_delta)\n",
    "    out = Lambda_alpha * Lambda_beta * Lambda_gamma * Lambda_delta\n",
    "    return out\n",
    "\n",
    "# calculate Lambda\n",
    "Lambda = Lambda(samples_alpha, samples_beta, samples_gamma, samples_delta)\n",
    "plt.hist(Lambda, density=True, cumulative=True, bins=100)\n",
    "plt.hlines(alpha, 0, 1, colors='r', linestyles='dashed')\n",
    "\n",
    "plt.show()"
   ]
  },
  {
   "cell_type": "code",
   "execution_count": null,
   "metadata": {},
   "outputs": [],
   "source": []
  }
 ],
 "metadata": {
  "kernelspec": {
   "display_name": "base",
   "language": "python",
   "name": "python3"
  },
  "language_info": {
   "codemirror_mode": {
    "name": "ipython",
    "version": 3
   },
   "file_extension": ".py",
   "mimetype": "text/x-python",
   "name": "python",
   "nbconvert_exporter": "python",
   "pygments_lexer": "ipython3",
   "version": "3.12.4"
  }
 },
 "nbformat": 4,
 "nbformat_minor": 2
}
